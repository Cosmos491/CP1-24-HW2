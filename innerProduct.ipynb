import numpy as np
import time
from pVectorGenerator import vectorGen

# This function takes the inner product using a loop.
def loopInnerProduct(v1,v2):
    start=time.perf_counter() #Start marks the start time of the loop function

    #This section ensures the vectors are of equal length to prevent errors in the loop

    diff=len(v1)-len(v2) #diff is the difference in length between the two vectors

    #If the length of v1 is greater than that of v2, then zeros are appended to v2 until they are of the same length
    if diff>0:
        for i in range(diff):
            v2.append(0)

    #If the length of v2 is greater than that of v1, then zeros are appended to v1 until they are of the same length
    elif diff<0:
        for i in range(-diff):
            v1.append(0)
    
    #If diff is zero, nothing needs to be done

    sum=0 # sum is declared as zero such that it can be added to.

    #As both vectors are of the same length, it loops through the length of v1, adding the product of conjugate v1[i] and v2[i] to the sum for each element.
    for i in range(len(v1)): 
        sum+=(v1[i].conjugate()*v2[i])

    end=time.perf_counter() #end marks the end time of the loop

    t=end-start #end-start=t is the total time the loop takes

    return sum,t #Returns the inner product and the time it took for the loop to run

#This function takes the inner product using the numpy vdot function
def npInnerProduct(v1,v2):

    start=time.perf_counter() #start marks the start time of the vdot function

    %timeit 
    x=np.vdot(v1,v2) #x is the inner product calculated from vdot

    end=time.perf_counter() #end marks the end time of the vdot function

    t=end-start #end-start=t is the total time that vdot takes

    return x,t #The inner product and the time vdot took are returned

#This function takes the inner product using the numpy einsum function
def einSum(v1,v2):

    start=time.perf_counter() #start marks the start time of the vdot function

    %timeit 
    x=np.einsum("i,i", v1,v2)

    end=time.perf_counter() #end-start=t is the total time that vdot takes

    t=end-start #end-start=t is the total time that vdot takes

    return x,t #The inner product and the time vdot took are returned

#Two random vectors are generated from the vectorGen function
v1=vectorGen(100000,-1,1,50)
v2=vectorGen(100000,-1,1,50)

#Product is the inner product of the two vectors, theTime 1-3 are the different times it takes for the respective methods to get the inner product
product,theTime1=loopInnerProduct(v1,v2)
product,theTime2=npInnerProduct(v1,v2)

#This loop loops though v1 and takes the conjugates of all elements before einSum function is used. As of now, I'm unsure how to make einsum take conjugates on its own as the vdot function would. 
for i in range(len(v1)):
    v1[i]=v1[i].conjugate()

product,theTime3=einSum(v1,v2) 

#The inner product and the times that each method took are printed out here. 
print('The inner product in this case is '+str(product)+".\n The time it took for a loop to calculate the inner product is "+str(theTime1)+" seconds.\n The time it took for the numpy vdot function to calculate the inner product is "+str(theTime2)+" seconds.\n The time it took for the numpy einsum function to calculate the inner product is "+str(theTime3)+" seconds.")
