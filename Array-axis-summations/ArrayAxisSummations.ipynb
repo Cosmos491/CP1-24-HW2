{
 "cells": [
  {
   "cell_type": "markdown",
   "metadata": {},
   "source": [
    "# ARRAY AXIS SUMMATIONS (3X3)"
   ]
  },
  {
   "cell_type": "code",
   "execution_count": 31,
   "metadata": {},
   "outputs": [
    {
     "name": "stdout",
     "output_type": "stream",
     "text": [
      "Array:\n",
      " [[0.35434091 0.42032691 0.12177485]\n",
      " [0.31262553 0.57370103 0.03288063]\n",
      " [0.93150991 0.25918348 0.83208566]]\n",
      "\n",
      "Sum of array: 3.8384289138463927\n",
      "Time taken to sum every element in the array (1000 runs): 2.789997961372137e-05 seconds\n",
      "\n",
      "Sum of rows: [0.89644267 0.91920719 2.02277905]\n",
      "Time taken to sum rows (1000 runs): 2.52000754699111e-05 seconds\n",
      "\n",
      "Sum of columns: [1.59847635 1.25321142 0.98674114]\n",
      "Time taken to sum columns (1000 runs): 2.4699955247342587e-05 seconds\n"
     ]
    }
   ],
   "source": [
    "import numpy as np\n",
    "import timeit as tm\n",
    "\n",
    "# Function to sum the array elements along the specified axis\n",
    "def axisSummation(arr, axis=None):\n",
    "    return np.sum(arr, axis=axis)\n",
    "\n",
    "# Generate a 3x3 array with random numbers\n",
    "arr = np.random.rand(3, 3)\n",
    "\n",
    "# Define functions to time the summation for rows and columns\n",
    "def sum_array():\n",
    "    return axisSummation(arr, axis=None) # Summing the whole array\n",
    "\n",
    "def sum_rows():\n",
    "    return axisSummation(arr, axis=1)  # Summing along rows (axis=1)\n",
    "\n",
    "def sum_columns():\n",
    "    return axisSummation(arr, axis=0)  # Summing along columns (axis=0)\n",
    "\n",
    "# Print the array\n",
    "print(\"Array:\\n\", arr)\n",
    "\n",
    "# Record the time to sum rows and columns\n",
    "time_array = tm.timeit(lambda: sum_array, number=1000) # Sum array 1000 times\n",
    "time_rows = tm.timeit(lambda: sum_rows, number=1000)  # Sum rows 1000 times\n",
    "time_columns = tm.timeit(lambda: sum_columns, number=1000)  # Sum columns 1000 times\n",
    "\n",
    "# Display results\n",
    "print(\"\\nSum of array:\", sum_array())\n",
    "print(\"Time taken to sum every element in the array (1000 runs):\", time_array, \"seconds\")\n",
    "\n",
    "print(\"\\nSum of rows:\", sum_rows())\n",
    "print(\"Time taken to sum rows (1000 runs):\", time_rows, \"seconds\")\n",
    "\n",
    "print(\"\\nSum of columns:\", sum_columns())\n",
    "print(\"Time taken to sum columns (1000 runs):\", time_columns, \"seconds\")\n",
    "\n"
   ]
  },
  {
   "cell_type": "markdown",
   "metadata": {},
   "source": [
    "# ARRAY AXIS SUMMATION (100x100 RANDOM NUMBERS)"
   ]
  },
  {
   "cell_type": "code",
   "execution_count": 22,
   "metadata": {},
   "outputs": [
    {
     "name": "stdout",
     "output_type": "stream",
     "text": [
      "Array:\n",
      " [[0.18577003 0.17968998 0.01270497 ... 0.64964181 0.81981541 0.15280831]\n",
      " [0.89169431 0.1337837  0.15394953 ... 0.07482901 0.99449734 0.82884853]\n",
      " [0.77989766 0.5158728  0.07244502 ... 0.26281994 0.28694236 0.87384522]\n",
      " ...\n",
      " [0.61232352 0.5959311  0.07720836 ... 0.24664447 0.99719223 0.46131883]\n",
      " [0.7174179  0.28074795 0.52868484 ... 0.75934117 0.94697614 0.67473773]\n",
      " [0.89216766 0.84365458 0.65182794 ... 0.40505614 0.81686253 0.95695754]]\n",
      "\n",
      "Sum of array: 4978.580522236515\n",
      "Time taken to sum every element in the array (1000 runs): 4.200031980872154e-06 seconds\n",
      "Time taken to sum rows (1000 runs): 3.100023604929447e-06 seconds\n",
      "Time taken to sum columns (1000 runs): 3.100023604929447e-06 seconds\n"
     ]
    }
   ],
   "source": [
    "import numpy as np\n",
    "import timeit as tm\n",
    "\n",
    "# Function to sum the array elements along the specified axis\n",
    "def axisSummation(arr, axis=None):\n",
    "    return np.sum(arr, axis=axis)\n",
    "\n",
    "# Generate a 100x100 array with random numbers\n",
    "arr = np.random.rand(100, 100)\n",
    "\n",
    "# Define functions to time the summation for rows and columns\n",
    "def sum_array():\n",
    "    return axisSummation(arr, axis = None) # Summing the whole array\n",
    "\n",
    "def sum_rows():\n",
    "    return axisSummation(arr, axis=1)  # Summing along rows (axis=1)\n",
    "\n",
    "def sum_columns():\n",
    "    return axisSummation(arr, axis=0)  # Summing along columns (axis=0)\n",
    "\n",
    "# Print the array\n",
    "print(\"Array:\\n\", arr)\n",
    "\n",
    "# Record the time to sum rows and columns\n",
    "time_array = tm.timeit(lambda: sum_array, number=1000) # Sum array 1000 times\n",
    "time_rows = tm.timeit(lambda: sum_rows, number=1000)  # Sum rows 1000 times\n",
    "time_columns = tm.timeit(lambda: sum_columns, number=1000)  # Sum columns 1000 times\n",
    "\n",
    "# Display results\n",
    "print(\"\\nSum of array:\", sum_array())\n",
    "print(\"Time taken to sum every element in the array (1000 runs):\", time_array, \"seconds\")\n",
    "\n",
    "#print(\"\\nSum of rows:\", sum_rows())\n",
    "print(\"Time taken to sum rows (1000 runs):\", time_rows, \"seconds\")\n",
    "\n",
    "#print(\"\\nSum of columns:\", sum_columns())\n",
    "print(\"Time taken to sum columns (1000 runs):\", time_columns, \"seconds\")"
   ]
  },
  {
   "cell_type": "markdown",
   "metadata": {},
   "source": [
    "# ARRAY AXIS SUMMATION (100X100 RANDOM NUMBERS) USING EINSTEIN NOTATION"
   ]
  },
  {
   "cell_type": "code",
   "execution_count": 38,
   "metadata": {},
   "outputs": [
    {
     "name": "stdout",
     "output_type": "stream",
     "text": [
      "Array:\n",
      " [[0.66934325 0.73299407 0.71727499 ... 0.01068692 0.70901789 0.81403371]\n",
      " [0.190471   0.00443299 0.93219276 ... 0.6214573  0.04391568 0.08762644]\n",
      " [0.54164633 0.82528278 0.45840171 ... 0.69846696 0.6688145  0.53790828]\n",
      " ...\n",
      " [0.28206108 0.11190872 0.58416324 ... 0.78241611 0.38207121 0.84614585]\n",
      " [0.27328169 0.75951161 0.79211082 ... 0.76446893 0.36778003 0.64275214]\n",
      " [0.53094024 0.3802502  0.33957795 ... 0.78565834 0.18613718 0.72358047]]\n",
      "\n",
      "Sum of array: 5016.570208988303\n",
      "Time taken to sum every element in the array (1000 runs): 2.6699970476329327e-05 seconds\n",
      "Time taken to sum rows (1000 runs): 2.589996438473463e-05 seconds\n",
      "Time taken to sum columns (1000 runs): 2.589996438473463e-05 seconds\n"
     ]
    }
   ],
   "source": [
    "import numpy as np\n",
    "import timeit as tm\n",
    "\n",
    "# Function to sum the array elements along the specified axis using Einstein summation notation\n",
    "def axisSummation(arr, axis=None):\n",
    "    if axis is None:  # Sum all elements\n",
    "        return np.einsum('ij->', arr)  # Summing over all indices\n",
    "    elif axis == 0:  # Sum over columns\n",
    "        return np.einsum('ij->j', arr)  # Summing over rows (result is a sum over columns)\n",
    "    elif axis == 1:  # Sum over rows\n",
    "        return np.einsum('ij->i', arr)  # Summing over columns (result is a sum over rows)\n",
    "\n",
    "# Generate a 100x100 array with random numbers\n",
    "arr = np.random.rand(100, 100)\n",
    "\n",
    "# Define functions to time the summation for rows and columns\n",
    "def sum_array():\n",
    "    return axisSummation(arr, axis=None) # Summing the whole array\n",
    "\n",
    "def sum_rows():\n",
    "    return axisSummation(arr, axis=1)  # Summing along rows\n",
    "\n",
    "def sum_columns():\n",
    "    return axisSummation(arr, axis=0)  # Summing along columns\n",
    "\n",
    "# Print the array\n",
    "print(\"Array:\\n\", arr)\n",
    "\n",
    "# Record the time to sum rows and columns\n",
    "time_array = tm.timeit(lambda: sum_array, number=1000)  # Sum array 1000 times\n",
    "time_rows = tm.timeit(lambda: sum_rows, number=1000)  # Sum rows 1000 times\n",
    "time_columns = tm.timeit(lambda: sum_columns, number=1000)  # Sum columns 1000 times\n",
    "\n",
    "# Display results\n",
    "print(\"\\nSum of array:\", sum_array())\n",
    "print(\"Time taken to sum every element in the array (1000 runs):\", time_array, \"seconds\")\n",
    "\n",
    "print(\"Time taken to sum rows (1000 runs):\", time_rows, \"seconds\")\n",
    "\n",
    "print(\"Time taken to sum columns (1000 runs):\", time_columns, \"seconds\")\n"
   ]
  }
 ],
 "metadata": {
  "kernelspec": {
   "display_name": "Python 3",
   "language": "python",
   "name": "python3"
  },
  "language_info": {
   "codemirror_mode": {
    "name": "ipython",
    "version": 3
   },
   "file_extension": ".py",
   "mimetype": "text/x-python",
   "name": "python",
   "nbconvert_exporter": "python",
   "pygments_lexer": "ipython3",
   "version": "3.12.2"
  }
 },
 "nbformat": 4,
 "nbformat_minor": 2
}
