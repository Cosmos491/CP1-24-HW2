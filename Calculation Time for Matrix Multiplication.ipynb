{
 "cells": [
  {
   "cell_type": "code",
   "execution_count": 1,
   "metadata": {},
   "outputs": [],
   "source": [
    "import numpy as np\n",
    "import matplotlib.pyplot as plt\n",
    "import time\n",
    "import scipy.optimize as opt"
   ]
  },
  {
   "cell_type": "markdown",
   "metadata": {},
   "source": [
    "# Matrix Multiplication Using np.dot(M1,M2)"
   ]
  },
  {
   "cell_type": "code",
   "execution_count": 20,
   "metadata": {},
   "outputs": [
    {
     "data": {
      "image/png": "[encoded data removed]",
      "text/plain": [
       "<Figure size 432x288 with 1 Axes>"
      ]
     },
     "metadata": {
      "needs_background": "light"
     },
     "output_type": "display_data"
    },
    {
     "name": "stdout",
     "output_type": "stream",
     "text": [
      "Predicted Fitting Exponent: 3.711231455857014 ± 0.029833537170164355\n",
      "A: 5.7170665306641164e-12\n"
     ]
    }
   ],
   "source": [
    "#Set the maximum matrix size\n",
    "N = 800\n",
    "\n",
    "#Empty list to store computation times\n",
    "t_N = []\n",
    "\n",
    "#Function to generate even and odd matrices\n",
    "def generate_matrices(n):\n",
    "    # Create an array with even numbers from 0 to 2*n^2-2\n",
    "    E = np.arange(0, 2*n**2, 2).reshape(n, n) #makes an array ranging from 0 to 2n^2 in steps of 2, then reshapes into n rows on length n, making an nxn matrix.\n",
    "    \n",
    "    # Create an array with odd numbers from 1 to 2*n**2-1\n",
    "    O = np.arange(1, 2*n**2 + 1, 2).reshape(n, n)\n",
    "    \n",
    "    return E, O\n",
    "\n",
    "#Loop through matrix sizes from 1 to N\n",
    "for n in range(1, N):\n",
    "    E, O = generate_matrices(n)\n",
    "    \n",
    "    #Start time before performing matrix multiplication\n",
    "    start_time = time.time()  \n",
    "    \n",
    "    #Perform matrix multiplication\n",
    "    res = np.dot(E, O)  \n",
    "    \n",
    "    #End time after performing matrix multiplication\n",
    "    end_time = time.time()\n",
    "\n",
    "    #Calculate the time it took to perform the multiplication\n",
    "    t_n = end_time - start_time\n",
    "    \n",
    "    #Append the calculation time to the list\n",
    "    t_N.append(t_n)\n",
    "\n",
    "#Convert the matrix sizes and times to numpy arrays\n",
    "N_values = np.arange(1, N)\n",
    "t_N = np.array(t_N)\n",
    "\n",
    "#Define the fitting function (Power Law: t(N) = A * N^p)\n",
    "def fit(N, p, A):\n",
    "    return A * N**p\n",
    "\n",
    "#Perform curve fitting\n",
    "parameters, covariance = opt.curve_fit(fit, N_values, t_N, p0=[4, 10**-5], maxfev=10000)\n",
    "perr = np.sqrt(np.diag(covariance))\n",
    "\n",
    "#Generate fitted values for plotting\n",
    "fitted_t_N = fit(N_values, *parameters)\n",
    "\n",
    "#Plot the original data\n",
    "plt.plot(N_values, t_N, ',', label='Data', markersize=2)\n",
    "\n",
    "# Plot the fitted curve\n",
    "plt.plot(N_values, fitted_t_N, label='fit', zorder=10)\n",
    "plt.xlabel('N')\n",
    "plt.ylabel('Computation Time (seconds)')\n",
    "plt.legend()\n",
    "plt.show()\n",
    "\n",
    "#Print the fitting exponent and coefficient\n",
    "print('Predicted Fitting Exponent: ' + str(parameters[0])+ ' ± ' + str(perr[0]))\n",
    "print('A: ' + str(parameters[1]))\n"
   ]
  },
  {
   "cell_type": "markdown",
   "metadata": {},
   "source": [
    "# Matrix Multiplication Using np.matmul(M1,M2)"
   ]
  },
  {
   "cell_type": "code",
   "execution_count": 12,
   "metadata": {},
   "outputs": [
    {
     "data": {
      "image/png": "[encoded data removed]",
      "text/plain": [
       "<Figure size 432x288 with 1 Axes>"
      ]
     },
     "metadata": {
      "needs_background": "light"
     },
     "output_type": "display_data"
    },
    {
     "name": "stdout",
     "output_type": "stream",
     "text": [
      "Predicted Fitting Exponent: 2.975992091781835 ± 0.02037345567635478\n",
      "A: 1.5961668618753195e-09\n"
     ]
    }
   ],
   "source": [
    "#Set the maximum matrix size\n",
    "N = 100\n",
    "\n",
    "#Empty list to store computation times\n",
    "t_N = []\n",
    "\n",
    "# Function to generate even and odd matrices\n",
    "def generate_matrices(n):\n",
    "    #Create an array with even numbers from 0 to 2*n^2-2\n",
    "    E = np.arange(0, 2*n**2, 2).reshape(n, n) #makes an array ranging from 0 to 2n^2 in steps of 2, then reshapes into n rows on length n, making an nxn matrix.\n",
    "    \n",
    "    #Create an array with odd numbers from 1 to 2*n**2-1\n",
    "    O = np.arange(1, 2*n**2 + 1, 2).reshape(n, n)\n",
    "    \n",
    "    return E, O\n",
    "\n",
    "#Loop through matrix sizes from 1 to N\n",
    "for n in range(1, N):\n",
    "    E, O = generate_matrices(n)\n",
    "    \n",
    "    #Start time before performing matrix multiplication\n",
    "    start_time = time.time()  \n",
    "    \n",
    "    #Perform matrix multiplication\n",
    "    res = np.matmul(E, O)  \n",
    "    \n",
    "    #End time after performing matrix multiplication\n",
    "    end_time = time.time()\n",
    "\n",
    "    #Calculate the time it took to perform the multiplication\n",
    "    t_n = end_time - start_time\n",
    "    \n",
    "    #Append the calculation time to the list\n",
    "    t_N.append(t_n)\n",
    "\n",
    "#Convert the matrix sizes and times to numpy arrays\n",
    "N_values = np.arange(1, N)\n",
    "t_N = np.array(t_N)\n",
    "\n",
    "#Define the fitting function (Power Law: t(N) = A * N^p)\n",
    "def fit(N, p, A):\n",
    "    return A * N**p\n",
    "\n",
    "#Perform curve fitting\n",
    "parameters, covariance = opt.curve_fit(fit, N_values, t_N, p0=[4, 10**-5], maxfev=10000)\n",
    "perr = np.sqrt(np.diag(covariance))\n",
    "\n",
    "#Generate fitted values for plotting\n",
    "fitted_t_N = fit(N_values, *parameters)\n",
    "\n",
    "#Plot the original data\n",
    "plt.plot(N_values, t_N, ',', label='Data', markersize=2)\n",
    "\n",
    "#Plot the fitted curve\n",
    "plt.plot(N_values, fitted_t_N, label='fit', zorder=10)\n",
    "plt.xlabel('N')\n",
    "plt.ylabel('Computation Time (seconds)')\n",
    "plt.legend()\n",
    "plt.show()\n",
    "\n",
    "#Print the fitting exponent and coefficient\n",
    "print('Predicted Fitting Exponent: ' + str(parameters[0])+ ' ± ' + str(perr[0]))\n",
    "print('A: ' + str(parameters[1]))\n"
   ]
  },
  {
   "cell_type": "markdown",
   "metadata": {},
   "source": [
    "# Matrix Multiplication Using For Loops"
   ]
  },
  {
   "cell_type": "code",
   "execution_count": 11,
   "metadata": {},
   "outputs": [
    {
     "name": "stderr",
     "output_type": "stream",
     "text": [
      "<ipython-input-11-827118305f2e>:33: RuntimeWarning: overflow encountered in long_scalars\n",
      "  res[i][j] += E[i][k] * O[k][j]\n"
     ]
    },
    {
     "data": {
      "image/png": "[encoded data removed]",
      "text/plain": [
       "<Figure size 432x288 with 1 Axes>"
      ]
     },
     "metadata": {
      "needs_background": "light"
     },
     "output_type": "display_data"
    },
    {
     "name": "stdout",
     "output_type": "stream",
     "text": [
      "Predicted Fitting Exponent: 3.0407296550798204 ± 0.02275389415377743\n",
      "A: 6.07123098368739e-07\n"
     ]
    }
   ],
   "source": [
    "#Set the maximum matrix size\n",
    "N = 100\n",
    "\n",
    "#Empty list to store computation times\n",
    "t_N = []\n",
    "\n",
    "# Function to generate even and odd matrices\n",
    "def generate_matrices(n):\n",
    "    #Create an array with even numbers from 0 to 2*n^2-2\n",
    "    E = np.arange(0, 2*n**2, 2).reshape(n, n) #makes an array ranging from 0 to 2n^2 in steps of 2, then reshapes into n rows on length n, making an nxn matrix.\n",
    "    \n",
    "    #Create an array with odd numbers from 1 to 2*n**2-1\n",
    "    O = np.arange(1, 2*n**2 + 1, 2).reshape(n, n)\n",
    "    \n",
    "    return E, O\n",
    "\n",
    "#Loop through matrix sizes from 1 to N\n",
    "for n in range(1, N):\n",
    "    E, O = generate_matrices(n)\n",
    "    \n",
    "    #Start time before performing matrix multiplication\n",
    "    start_time = time.time()  \n",
    "    \n",
    "    #Perform matrix multiplication\n",
    "    res = [[0 for x in range(n)] for y in range(n)] \n",
    "\n",
    "    #explicit for loops\n",
    "    for i in range(len(E)):\n",
    "        for j in range(len(O[0])):\n",
    "            for k in range(len(O)):\n",
    "\n",
    "                # resulted matrix\n",
    "                res[i][j] += E[i][k] * O[k][j]\n",
    "    \n",
    "    #End time after performing matrix multiplication\n",
    "    end_time = time.time()\n",
    "\n",
    "    #Calculate the time it took to perform the multiplication\n",
    "    t_n = end_time - start_time\n",
    "    \n",
    "    #Append the calculation time to the list\n",
    "    t_N.append(t_n)\n",
    "\n",
    "#Convert the matrix sizes and times to numpy arrays\n",
    "N_values = np.arange(1, N)\n",
    "t_N = np.array(t_N)\n",
    "\n",
    "#Define the fitting function (Power Law: t(N) = A * N^p)\n",
    "def fit(N, p, A):\n",
    "    return A * N**p\n",
    "\n",
    "#Perform curve fitting\n",
    "parameters, covariance = opt.curve_fit(fit, N_values, t_N, p0=[4, 10**-5], maxfev=10000)\n",
    "perr = np.sqrt(np.diag(covariance))\n",
    "\n",
    "#Generate fitted values for plotting\n",
    "fitted_t_N = fit(N_values, *parameters)\n",
    "\n",
    "#Plot the original data\n",
    "plt.plot(N_values, t_N, 'o', label='Data', markersize=2)\n",
    "\n",
    "#Plot the fitted curve\n",
    "plt.plot(N_values, fitted_t_N, label='fit', zorder=10)\n",
    "plt.xlabel('N')\n",
    "plt.ylabel('Computation Time (seconds)')\n",
    "plt.legend()\n",
    "plt.show()\n",
    "\n",
    "#Print the fitting exponent and coefficient\n",
    "print('Predicted Fitting Exponent: ' + str(parameters[0])+ ' ± ' + str(perr[0]))\n",
    "print('A: ' + str(parameters[1]))\n"
   ]
  },
  {
   "cell_type": "code",
   "execution_count": null,
   "metadata": {},
   "outputs": [],
   "source": []
  }
 ],
 "metadata": {
  "kernelspec": {
   "display_name": "Python 3",
   "language": "python",
   "name": "python3"
  },
  "language_info": {
   "codemirror_mode": {
    "name": "ipython",
    "version": 3
   },
   "file_extension": ".py",
   "mimetype": "text/x-python",
   "name": "python",
   "nbconvert_exporter": "python",
   "pygments_lexer": "ipython3",
   "version": "3.8.5"
  }
 },
 "nbformat": 4,
 "nbformat_minor": 4
}
